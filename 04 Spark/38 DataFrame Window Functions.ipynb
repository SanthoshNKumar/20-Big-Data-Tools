{
 "cells": [
  {
   "cell_type": "code",
   "execution_count": null,
   "metadata": {},
   "outputs": [],
   "source": [
    "# PySpark Window functions\n",
    "\n",
    "# PySpark Window functions are used to calculate results such as the rank, row number e.t.c over a range of input rows"
   ]
  },
  {
   "cell_type": "code",
   "execution_count": null,
   "metadata": {},
   "outputs": [],
   "source": [
    "'''\n",
    "# Window Functions\n",
    "    - ranking functions\n",
    "    - analytic functions\n",
    "    - aggregate functions"
   ]
  },
  {
   "cell_type": "code",
   "execution_count": 2,
   "metadata": {},
   "outputs": [
    {
     "data": {
      "text/html": [
       "\n",
       "            <div>\n",
       "                <p><b>SparkSession - in-memory</b></p>\n",
       "                \n",
       "        <div>\n",
       "            <p><b>SparkContext</b></p>\n",
       "\n",
       "            <p><a href=\"http://Win10.eu2d4xqpkiwuzc50gvspb3qxbb.bx.internal.cloudapp.net:4045\">Spark UI</a></p>\n",
       "\n",
       "            <dl>\n",
       "              <dt>Version</dt>\n",
       "                <dd><code>v3.0.3</code></dd>\n",
       "              <dt>Master</dt>\n",
       "                <dd><code>local[1]</code></dd>\n",
       "              <dt>AppName</dt>\n",
       "                <dd><code>SparkByExamples.com</code></dd>\n",
       "            </dl>\n",
       "        </div>\n",
       "        \n",
       "            </div>\n",
       "        "
      ],
      "text/plain": [
       "<pyspark.sql.session.SparkSession at 0x24fe12b6518>"
      ]
     },
     "execution_count": 2,
     "metadata": {},
     "output_type": "execute_result"
    }
   ],
   "source": [
    "# Testing pyspark Intallation\n",
    "import findspark\n",
    "findspark.init('C:\\Spark')\n",
    "findspark.find()\n",
    "\n",
    "import pyspark\n",
    "from pyspark.sql import SparkSession\n",
    "\n",
    "# Create Spark Session\n",
    "spark = SparkSession.builder.master(\"local[1]\").appName('SparkByExamples.com').getOrCreate()\n",
    "\n",
    "spark"
   ]
  },
  {
   "cell_type": "code",
   "execution_count": 6,
   "metadata": {},
   "outputs": [
    {
     "name": "stdout",
     "output_type": "stream",
     "text": [
      "+-------------+----------+------+\n",
      "|employee_name|department|salary|\n",
      "+-------------+----------+------+\n",
      "|        James|   \"Sales\"|  3000|\n",
      "|      Michael|   \"Sales\"|  4600|\n",
      "|       Robert|   \"Sales\"|  4100|\n",
      "|        Maria| \"Finance\"|  3000|\n",
      "|        James|   \"Sales\"|  3000|\n",
      "+-------------+----------+------+\n",
      "only showing top 5 rows\n",
      "\n"
     ]
    }
   ],
   "source": [
    "# Read CSV File\n",
    "\n",
    "df = spark.read.option(\"header\",True).csv(\"data/6.csv\")\n",
    "\n",
    "df.show(5)"
   ]
  },
  {
   "cell_type": "code",
   "execution_count": 7,
   "metadata": {},
   "outputs": [
    {
     "name": "stdout",
     "output_type": "stream",
     "text": [
      "root\n",
      " |-- employee_name: string (nullable = true)\n",
      " |-- department: string (nullable = true)\n",
      " |-- salary: string (nullable = true)\n",
      "\n"
     ]
    }
   ],
   "source": [
    "df.printSchema()"
   ]
  },
  {
   "cell_type": "code",
   "execution_count": 8,
   "metadata": {},
   "outputs": [
    {
     "name": "stdout",
     "output_type": "stream",
     "text": [
      "+-------------+------------+------+----------+\n",
      "|employee_name|department  |salary|row_number|\n",
      "+-------------+------------+------+----------+\n",
      "|Kumar        | \"Marketing\"| 2000 |1         |\n",
      "|Jeff         | \"Marketing\"| 3000 |2         |\n",
      "|James        | \"Sales\"    | 3000 |1         |\n",
      "|James        | \"Sales\"    | 3000 |2         |\n",
      "|Robert       | \"Sales\"    | 4100 |3         |\n",
      "|Saif         | \"Sales\"    | 4100 |4         |\n",
      "|Michael      | \"Sales\"    | 4600 |5         |\n",
      "|Maria        | \"Finance\"  | 3000 |1         |\n",
      "|Scott        | \"Finance\"  | 3300 |2         |\n",
      "|Jen          | \"Finance\"  | 3900 |3         |\n",
      "+-------------+------------+------+----------+\n",
      "\n"
     ]
    }
   ],
   "source": [
    "# row_number \n",
    "\n",
    "from pyspark.sql.functions import row_number\n",
    "from pyspark.sql.window import Window\n",
    "\n",
    "windowSpec  = Window.partitionBy(\"department\").orderBy(\"salary\")\n",
    "df.withColumn(\"row_number\",row_number().over(windowSpec)).show(truncate=False)"
   ]
  },
  {
   "cell_type": "code",
   "execution_count": 9,
   "metadata": {},
   "outputs": [
    {
     "name": "stdout",
     "output_type": "stream",
     "text": [
      "+-------------+------------+------+----+\n",
      "|employee_name|  department|salary|rank|\n",
      "+-------------+------------+------+----+\n",
      "|        Kumar| \"Marketing\"|  2000|   1|\n",
      "|         Jeff| \"Marketing\"|  3000|   2|\n",
      "|        James|     \"Sales\"|  3000|   1|\n",
      "|        James|     \"Sales\"|  3000|   1|\n",
      "|       Robert|     \"Sales\"|  4100|   3|\n",
      "|         Saif|     \"Sales\"|  4100|   3|\n",
      "|      Michael|     \"Sales\"|  4600|   5|\n",
      "|        Maria|   \"Finance\"|  3000|   1|\n",
      "|        Scott|   \"Finance\"|  3300|   2|\n",
      "|          Jen|   \"Finance\"|  3900|   3|\n",
      "+-------------+------------+------+----+\n",
      "\n"
     ]
    }
   ],
   "source": [
    "# rank Window Function\n",
    "\n",
    "# rank() window function is used to provide a rank to the result within a window partition.\n",
    "\n",
    "from pyspark.sql.functions import rank\n",
    "\n",
    "df.withColumn(\"rank\",rank().over(windowSpec)).show()"
   ]
  },
  {
   "cell_type": "code",
   "execution_count": 10,
   "metadata": {},
   "outputs": [
    {
     "name": "stdout",
     "output_type": "stream",
     "text": [
      "+-------------+------------+------+----------+\n",
      "|employee_name|  department|salary|dense_rank|\n",
      "+-------------+------------+------+----------+\n",
      "|        Kumar| \"Marketing\"|  2000|         1|\n",
      "|         Jeff| \"Marketing\"|  3000|         2|\n",
      "|        James|     \"Sales\"|  3000|         1|\n",
      "|        James|     \"Sales\"|  3000|         1|\n",
      "|       Robert|     \"Sales\"|  4100|         2|\n",
      "|         Saif|     \"Sales\"|  4100|         2|\n",
      "|      Michael|     \"Sales\"|  4600|         3|\n",
      "|        Maria|   \"Finance\"|  3000|         1|\n",
      "|        Scott|   \"Finance\"|  3300|         2|\n",
      "|          Jen|   \"Finance\"|  3900|         3|\n",
      "+-------------+------------+------+----------+\n",
      "\n"
     ]
    }
   ],
   "source": [
    "'''\n",
    "# dense_rank :\n",
    "    - dense_rank() window function is used to get the result with rank of rows within a window partition without any gaps.\n",
    "'''\n",
    "\n",
    "from pyspark.sql.functions import dense_rank\n",
    "\n",
    "df.withColumn(\"dense_rank\",dense_rank().over(windowSpec)).show()"
   ]
  },
  {
   "cell_type": "code",
   "execution_count": 11,
   "metadata": {},
   "outputs": [
    {
     "name": "stdout",
     "output_type": "stream",
     "text": [
      "+-------------+------------+------+------------+\n",
      "|employee_name|  department|salary|percent_rank|\n",
      "+-------------+------------+------+------------+\n",
      "|        Kumar| \"Marketing\"|  2000|         0.0|\n",
      "|         Jeff| \"Marketing\"|  3000|         1.0|\n",
      "|        James|     \"Sales\"|  3000|         0.0|\n",
      "|        James|     \"Sales\"|  3000|         0.0|\n",
      "|       Robert|     \"Sales\"|  4100|         0.5|\n",
      "|         Saif|     \"Sales\"|  4100|         0.5|\n",
      "|      Michael|     \"Sales\"|  4600|         1.0|\n",
      "|        Maria|   \"Finance\"|  3000|         0.0|\n",
      "|        Scott|   \"Finance\"|  3300|         0.5|\n",
      "|          Jen|   \"Finance\"|  3900|         1.0|\n",
      "+-------------+------------+------+------------+\n",
      "\n"
     ]
    }
   ],
   "source": [
    "'''\n",
    "percent_rank \n",
    "\n",
    "'''\n",
    "\n",
    "from pyspark.sql.functions import percent_rank\n",
    "    \n",
    "df.withColumn(\"percent_rank\",percent_rank().over(windowSpec)).show()"
   ]
  },
  {
   "cell_type": "code",
   "execution_count": 12,
   "metadata": {},
   "outputs": [
    {
     "name": "stdout",
     "output_type": "stream",
     "text": [
      "+-------------+------------+------+-----+\n",
      "|employee_name|  department|salary|ntile|\n",
      "+-------------+------------+------+-----+\n",
      "|        Kumar| \"Marketing\"|  2000|    1|\n",
      "|         Jeff| \"Marketing\"|  3000|    2|\n",
      "|        James|     \"Sales\"|  3000|    1|\n",
      "|        James|     \"Sales\"|  3000|    1|\n",
      "|       Robert|     \"Sales\"|  4100|    1|\n",
      "|         Saif|     \"Sales\"|  4100|    2|\n",
      "|      Michael|     \"Sales\"|  4600|    2|\n",
      "|        Maria|   \"Finance\"|  3000|    1|\n",
      "|        Scott|   \"Finance\"|  3300|    1|\n",
      "|          Jen|   \"Finance\"|  3900|    2|\n",
      "+-------------+------------+------+-----+\n",
      "\n"
     ]
    }
   ],
   "source": [
    "# ntile Window Function\n",
    "# ntile() window function returns the relative rank of result rows within a window partition\n",
    "\n",
    "from pyspark.sql.functions import ntile\n",
    "df.withColumn(\"ntile\",ntile(2).over(windowSpec)).show()"
   ]
  },
  {
   "cell_type": "code",
   "execution_count": 13,
   "metadata": {},
   "outputs": [
    {
     "name": "stdout",
     "output_type": "stream",
     "text": [
      "+-------------+------------+------+------------------+\n",
      "|employee_name|  department|salary|         cume_dist|\n",
      "+-------------+------------+------+------------------+\n",
      "|        Kumar| \"Marketing\"|  2000|               0.5|\n",
      "|         Jeff| \"Marketing\"|  3000|               1.0|\n",
      "|        James|     \"Sales\"|  3000|               0.4|\n",
      "|        James|     \"Sales\"|  3000|               0.4|\n",
      "|       Robert|     \"Sales\"|  4100|               0.8|\n",
      "|         Saif|     \"Sales\"|  4100|               0.8|\n",
      "|      Michael|     \"Sales\"|  4600|               1.0|\n",
      "|        Maria|   \"Finance\"|  3000|0.3333333333333333|\n",
      "|        Scott|   \"Finance\"|  3300|0.6666666666666666|\n",
      "|          Jen|   \"Finance\"|  3900|               1.0|\n",
      "+-------------+------------+------+------------------+\n",
      "\n"
     ]
    }
   ],
   "source": [
    "#  PySpark Window Analytic functions\n",
    "\n",
    "# cume_dist \n",
    "\n",
    "from pyspark.sql.functions import cume_dist    \n",
    "df.withColumn(\"cume_dist\",cume_dist().over(windowSpec)).show()"
   ]
  },
  {
   "cell_type": "code",
   "execution_count": 14,
   "metadata": {},
   "outputs": [
    {
     "name": "stdout",
     "output_type": "stream",
     "text": [
      "+-------------+------------+------+-----+\n",
      "|employee_name|  department|salary|  lag|\n",
      "+-------------+------------+------+-----+\n",
      "|        Kumar| \"Marketing\"|  2000| null|\n",
      "|         Jeff| \"Marketing\"|  3000| null|\n",
      "|        James|     \"Sales\"|  3000| null|\n",
      "|        James|     \"Sales\"|  3000| null|\n",
      "|       Robert|     \"Sales\"|  4100| 3000|\n",
      "|         Saif|     \"Sales\"|  4100| 3000|\n",
      "|      Michael|     \"Sales\"|  4600| 4100|\n",
      "|        Maria|   \"Finance\"|  3000| null|\n",
      "|        Scott|   \"Finance\"|  3300| null|\n",
      "|          Jen|   \"Finance\"|  3900| 3000|\n",
      "+-------------+------------+------+-----+\n",
      "\n"
     ]
    }
   ],
   "source": [
    "# lag Window Function\n",
    "\n",
    "from pyspark.sql.functions import lag    \n",
    "df.withColumn(\"lag\",lag(\"salary\",2).over(windowSpec)).show()"
   ]
  },
  {
   "cell_type": "code",
   "execution_count": 15,
   "metadata": {},
   "outputs": [
    {
     "name": "stdout",
     "output_type": "stream",
     "text": [
      "+-------------+------------+------+-----+\n",
      "|employee_name|  department|salary| lead|\n",
      "+-------------+------------+------+-----+\n",
      "|        Kumar| \"Marketing\"|  2000| null|\n",
      "|         Jeff| \"Marketing\"|  3000| null|\n",
      "|        James|     \"Sales\"|  3000| 4100|\n",
      "|        James|     \"Sales\"|  3000| 4100|\n",
      "|       Robert|     \"Sales\"|  4100| 4600|\n",
      "|         Saif|     \"Sales\"|  4100| null|\n",
      "|      Michael|     \"Sales\"|  4600| null|\n",
      "|        Maria|   \"Finance\"|  3000| 3900|\n",
      "|        Scott|   \"Finance\"|  3300| null|\n",
      "|          Jen|   \"Finance\"|  3900| null|\n",
      "+-------------+------------+------+-----+\n",
      "\n"
     ]
    }
   ],
   "source": [
    "\n",
    "from pyspark.sql.functions import lead    \n",
    "df.withColumn(\"lead\",lead(\"salary\",2).over(windowSpec)).show()"
   ]
  },
  {
   "cell_type": "code",
   "execution_count": 16,
   "metadata": {},
   "outputs": [
    {
     "name": "stdout",
     "output_type": "stream",
     "text": [
      "+------------+------+-------+-----+-----+\n",
      "|  department|   avg|    sum|  min|  max|\n",
      "+------------+------+-------+-----+-----+\n",
      "| \"Marketing\"|2500.0| 5000.0| 2000| 3000|\n",
      "|     \"Sales\"|3760.0|18800.0| 3000| 4600|\n",
      "|   \"Finance\"|3400.0|10200.0| 3000| 3900|\n",
      "+------------+------+-------+-----+-----+\n",
      "\n"
     ]
    }
   ],
   "source": [
    "#  PySpark Window Aggregate Functions\n",
    "\n",
    "windowSpecAgg  = Window.partitionBy(\"department\")\n",
    "\n",
    "from pyspark.sql.functions import col,avg,sum,min,max,row_number \n",
    "\n",
    "df.withColumn(\"row\",row_number().over(windowSpec)) \\\n",
    "  .withColumn(\"avg\", avg(col(\"salary\")).over(windowSpecAgg)) \\\n",
    "  .withColumn(\"sum\", sum(col(\"salary\")).over(windowSpecAgg)) \\\n",
    "  .withColumn(\"min\", min(col(\"salary\")).over(windowSpecAgg)) \\\n",
    "  .withColumn(\"max\", max(col(\"salary\")).over(windowSpecAgg)) \\\n",
    "  .where(col(\"row\")==1).select(\"department\",\"avg\",\"sum\",\"min\",\"max\") \\\n",
    "  .show()"
   ]
  },
  {
   "cell_type": "code",
   "execution_count": null,
   "metadata": {},
   "outputs": [],
   "source": []
  }
 ],
 "metadata": {
  "kernelspec": {
   "display_name": "Python 3",
   "language": "python",
   "name": "python3"
  },
  "language_info": {
   "codemirror_mode": {
    "name": "ipython",
    "version": 3
   },
   "file_extension": ".py",
   "mimetype": "text/x-python",
   "name": "python",
   "nbconvert_exporter": "python",
   "pygments_lexer": "ipython3",
   "version": "3.6.8"
  }
 },
 "nbformat": 4,
 "nbformat_minor": 2
}
