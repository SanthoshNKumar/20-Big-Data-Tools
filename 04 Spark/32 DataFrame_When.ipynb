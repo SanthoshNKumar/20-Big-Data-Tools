{
 "cells": [
  {
   "cell_type": "code",
   "execution_count": 2,
   "metadata": {},
   "outputs": [
    {
     "data": {
      "text/html": [
       "\n",
       "            <div>\n",
       "                <p><b>SparkSession - in-memory</b></p>\n",
       "                \n",
       "        <div>\n",
       "            <p><b>SparkContext</b></p>\n",
       "\n",
       "            <p><a href=\"http://Win10.eu2d4xqpkiwuzc50gvspb3qxbb.bx.internal.cloudapp.net:4041\">Spark UI</a></p>\n",
       "\n",
       "            <dl>\n",
       "              <dt>Version</dt>\n",
       "                <dd><code>v3.0.3</code></dd>\n",
       "              <dt>Master</dt>\n",
       "                <dd><code>local[1]</code></dd>\n",
       "              <dt>AppName</dt>\n",
       "                <dd><code>SparkByExamples.com</code></dd>\n",
       "            </dl>\n",
       "        </div>\n",
       "        \n",
       "            </div>\n",
       "        "
      ],
      "text/plain": [
       "<pyspark.sql.session.SparkSession at 0x1cec74390b8>"
      ]
     },
     "execution_count": 2,
     "metadata": {},
     "output_type": "execute_result"
    }
   ],
   "source": [
    "# Testing pyspark Intallation\n",
    "import findspark\n",
    "findspark.init('C:\\Spark')\n",
    "findspark.find()\n",
    "\n",
    "import pyspark\n",
    "from pyspark.sql import SparkSession\n",
    "\n",
    "# Create Spark Session\n",
    "spark = SparkSession.builder.master(\"local[1]\").appName('SparkByExamples.com').getOrCreate()\n",
    "\n",
    "spark"
   ]
  },
  {
   "cell_type": "code",
   "execution_count": 4,
   "metadata": {},
   "outputs": [
    {
     "name": "stdout",
     "output_type": "stream",
     "text": [
      "+-------+------+------+\n",
      "|   name|gender|salary|\n",
      "+-------+------+------+\n",
      "|  James|     M| 60000|\n",
      "|Michael|     M| 70000|\n",
      "| Robert|  null|400000|\n",
      "|  Maria|     F|500000|\n",
      "|    Jen|  null|  null|\n",
      "+-------+------+------+\n",
      "\n"
     ]
    }
   ],
   "source": [
    "# Read CSV File\n",
    "csv_file = 'data/1.csv'\n",
    "\n",
    "df = spark.read.option(\"header\",True).csv(csv_file)\n",
    "\n",
    "df.show(5)"
   ]
  },
  {
   "cell_type": "code",
   "execution_count": 5,
   "metadata": {},
   "outputs": [
    {
     "name": "stdout",
     "output_type": "stream",
     "text": [
      "+-------+---------------------------------------------+\n",
      "|   name|CASE WHEN (salary > 400000) THEN 1 ELSE 0 END|\n",
      "+-------+---------------------------------------------+\n",
      "|  James|                                            0|\n",
      "|Michael|                                            0|\n",
      "| Robert|                                            0|\n",
      "|  Maria|                                            1|\n",
      "|    Jen|                                            0|\n",
      "+-------+---------------------------------------------+\n",
      "\n"
     ]
    }
   ],
   "source": [
    "from pyspark.sql import functions as F\n",
    "\n",
    "df.select(df.name, F.when(df.salary > 400000, 1).otherwise(0)).show()"
   ]
  },
  {
   "cell_type": "code",
   "execution_count": 7,
   "metadata": {},
   "outputs": [
    {
     "name": "stdout",
     "output_type": "stream",
     "text": [
      "+------+------+---+----------+------+\n",
      "|  Name|RollNo|Age|Percentage|Gender|\n",
      "+------+------+---+----------+------+\n",
      "|Candis|    27| 20|      89.2|     F|\n",
      "|Robert|    60| 21|      85.1| Other|\n",
      "| Nanki|    46| 21|      80.1|     F|\n",
      "|  Deck|    30| 19|      90.7|     M|\n",
      "+------+------+---+----------+------+\n",
      "\n"
     ]
    }
   ],
   "source": [
    "# Read CSV File\n",
    "csv_file = 'data/2.csv'\n",
    "\n",
    "df = spark.read.option(\"header\",True).csv(csv_file)\n",
    "\n",
    "df.show(5)"
   ]
  },
  {
   "cell_type": "code",
   "execution_count": 8,
   "metadata": {},
   "outputs": [
    {
     "name": "stdout",
     "output_type": "stream",
     "text": [
      "root\n",
      " |-- Name: string (nullable = true)\n",
      " |-- RollNo: string (nullable = true)\n",
      " |-- Age: string (nullable = true)\n",
      " |-- Percentage: string (nullable = true)\n",
      " |-- Gender: string (nullable = true)\n",
      "\n"
     ]
    }
   ],
   "source": [
    "df.printSchema()"
   ]
  },
  {
   "cell_type": "code",
   "execution_count": null,
   "metadata": {},
   "outputs": [],
   "source": [
    "'''\n",
    "withcolumn : Accepts two argument\n",
    "    First argument: Name of the existing column or new column\n",
    "    Second argument: we write the when otherwise condition."
   ]
  },
  {
   "cell_type": "code",
   "execution_count": 9,
   "metadata": {},
   "outputs": [
    {
     "name": "stdout",
     "output_type": "stream",
     "text": [
      "+------+------+---+----------+------+\n",
      "|  Name|RollNo|Age|Percentage|Gender|\n",
      "+------+------+---+----------+------+\n",
      "|Candis|    27| 20|      89.2|Female|\n",
      "|Robert|    60| 21|      85.1| Other|\n",
      "| Nanki|    46| 21|      80.1|Female|\n",
      "|  Deck|    30| 19|      90.7|  Male|\n",
      "+------+------+---+----------+------+\n",
      "\n"
     ]
    }
   ],
   "source": [
    "# Replace 'F' to 'Female' 'M' to 'Male'\n",
    "from pyspark.sql.functions import col,when\n",
    "\n",
    "df_when  = df.withColumn('Gender',when(col(\"Gender\") == \"M\",\"Male\").when(col(\"Gender\") == \"F\",\"Female\").otherwise(\"Other\"))\n",
    "\n",
    "df_when.show()"
   ]
  },
  {
   "cell_type": "code",
   "execution_count": 10,
   "metadata": {},
   "outputs": [
    {
     "name": "stdout",
     "output_type": "stream",
     "text": [
      "+------+------+---+----------+------+----------+\n",
      "|  Name|RollNo|Age|Percentage|Gender|New_gender|\n",
      "+------+------+---+----------+------+----------+\n",
      "|Candis|    27| 20|      89.2|     F|    Female|\n",
      "|Robert|    60| 21|      85.1| Other|    Unknow|\n",
      "| Nanki|    46| 21|      80.1|     F|    Female|\n",
      "|  Deck|    30| 19|      90.7|     M|      Male|\n",
      "+------+------+---+----------+------+----------+\n",
      "\n"
     ]
    }
   ],
   "source": [
    "# New Column : Create New column on existing Data Frame\n",
    "\n",
    "df_when2  = df.select(col(\"*\"),when(col(\"Gender\") == \"M\",\"Male\")\n",
    "                      .when(col(\"Gender\") == \"F\",\"Female\")\n",
    "                      .otherwise(\"Unknow\").alias(\"New_gender\"))\n",
    "\n",
    "df_when2.show()"
   ]
  },
  {
   "cell_type": "code",
   "execution_count": 11,
   "metadata": {},
   "outputs": [
    {
     "name": "stdout",
     "output_type": "stream",
     "text": [
      "+------+------+---+----------+------+-----------+\n",
      "|  Name|RollNo|Age|Percentage|Gender|Performance|\n",
      "+------+------+---+----------+------+-----------+\n",
      "|Candis|    27| 20|      89.2|     F|  Excellent|\n",
      "|Robert|    60| 21|      85.1| Other|      Great|\n",
      "| Nanki|    46| 21|      80.1|     F|    Average|\n",
      "|  Deck|    30| 19|      90.7|     M|  Excellent|\n",
      "+------+------+---+----------+------+-----------+\n",
      "\n"
     ]
    }
   ],
   "source": [
    "# case when\n",
    "\n",
    "# Question: Create a column “Performance” and find it out on the basis of percentage?\n",
    "\n",
    "from pyspark.sql.functions import expr\n",
    "\n",
    "df_case = df.withColumn(\"Performance\", expr(\"case when Percentage>88.0 then 'Excellent' \" \n",
    "                                            + \"when Percentage<83.0 then 'Average' \" \n",
    "                                            + \"else 'Great' end\"))\n",
    "\n",
    "#View Dataframe\n",
    "df_case.show()"
   ]
  },
  {
   "cell_type": "code",
   "execution_count": 12,
   "metadata": {},
   "outputs": [
    {
     "name": "stdout",
     "output_type": "stream",
     "text": [
      "+------+------+---+----------+------+-------+\n",
      "|  Name|RollNo|Age|Percentage|Gender|Results|\n",
      "+------+------+---+----------+------+-------+\n",
      "|Candis|    27| 20|      89.2|     F|   Pass|\n",
      "|Robert|    60| 21|      85.1| Other|Unknown|\n",
      "| Nanki|    46| 21|      80.1|     F|Unknown|\n",
      "|  Deck|    30| 19|      90.7|     M|   Fail|\n",
      "+------+------+---+----------+------+-------+\n",
      "\n"
     ]
    }
   ],
   "source": [
    "# Using & and | operator\n",
    "\n",
    "data=df.withColumn(\"Results\", when((df[\"Age\"]>19) & (df[\"Percentage\"]>87.0) , \"Pass\"). \n",
    "                   when((df[\"Age\"]==19) | (df[\"Percentage\"]==87.0) , \"Fail\").otherwise(\"Unknown\"))\n",
    "\n",
    "data.show()"
   ]
  },
  {
   "cell_type": "code",
   "execution_count": null,
   "metadata": {},
   "outputs": [],
   "source": []
  }
 ],
 "metadata": {
  "kernelspec": {
   "display_name": "Python 3",
   "language": "python",
   "name": "python3"
  },
  "language_info": {
   "codemirror_mode": {
    "name": "ipython",
    "version": 3
   },
   "file_extension": ".py",
   "mimetype": "text/x-python",
   "name": "python",
   "nbconvert_exporter": "python",
   "pygments_lexer": "ipython3",
   "version": "3.6.8"
  }
 },
 "nbformat": 4,
 "nbformat_minor": 2
}
