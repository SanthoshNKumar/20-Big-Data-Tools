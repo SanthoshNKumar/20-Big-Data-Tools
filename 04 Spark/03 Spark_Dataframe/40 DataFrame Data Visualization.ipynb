{
 "cells": [
  {
   "cell_type": "code",
   "execution_count": null,
   "metadata": {},
   "outputs": [],
   "source": [
    "# Data Visualization\n",
    "\n",
    "sec_df =  df.select(['sector', 'open', 'close', 'adjusted']).groupBy('sector').mean().toPandas()\n",
    "\n",
    "ind = list(range(12))\n",
    "\n",
    "ind.pop(6)\n",
    "\n",
    "sec_df.iloc[ind ,:].plot(kind = 'bar', x='sector', \n",
    "                         y = sec_df.columns.tolist()[1:], \n",
    "                         figsize=(12, 6), \n",
    "                         ylabel = 'Stock Price', \n",
    "                         xlabel = 'Sector')\n",
    "plt.show()"
   ]
  },
  {
   "cell_type": "code",
   "execution_count": null,
   "metadata": {},
   "outputs": [],
   "source": [
    "\n",
    "industries_x = df.select(['industry', 'open', 'close', 'adjusted']).groupBy('industry').mean().toPandas()\n",
    "\n",
    "q  = industries_x[(industries_x.industry != 'Major Chemicals') & (industries_x.industry != 'Building Products')]\n",
    "\n",
    "q.plot(kind = 'barh', x='industry', y = q.columns.tolist()[1:], figsize=(10, 50), xlabel='Stock Price', ylabel = 'Industry')\n",
    "\n",
    "plt.show()"
   ]
  },
  {
   "cell_type": "code",
   "execution_count": null,
   "metadata": {},
   "outputs": [],
   "source": [
    "from pyspark.sql.functions import col\n",
    "\n",
    "tech = data.where(col('sector') == 'Technology').select('data', 'open', 'close', 'adjusted')\n",
    "\n",
    "fig, axes = plt.subplots(nrows=3, ncols=1, figsize =(60, 30))\n",
    "\n",
    "tech.toPandas().plot(kind = 'line', x = 'data', y='open', \n",
    "                     xlabel = 'Date Range', ylabel = 'Stock Opening Price', \n",
    "                     ax = axes[0], color = 'mediumspringgreen')\n",
    "\n",
    "tech.toPandas().plot(kind = 'line', x = 'data', y='close',\n",
    "                     xlabel = 'Date Range', ylabel = 'Stock Closing Price',\n",
    "                     ax = axes[1], color = 'tomato')\n",
    "\n",
    "tech.toPandas().plot(kind = 'line', x = 'data', y='adjusted', \n",
    "                     xlabel = 'Date Range', ylabel = 'Stock Adjusted Price', \n",
    "                     ax = axes[2], color = 'orange')\n",
    "plt.show()"
   ]
  }
 ],
 "metadata": {
  "kernelspec": {
   "display_name": "Python 3",
   "language": "python",
   "name": "python3"
  },
  "language_info": {
   "codemirror_mode": {
    "name": "ipython",
    "version": 3
   },
   "file_extension": ".py",
   "mimetype": "text/x-python",
   "name": "python",
   "nbconvert_exporter": "python",
   "pygments_lexer": "ipython3",
   "version": "3.7.4"
  }
 },
 "nbformat": 4,
 "nbformat_minor": 2
}
