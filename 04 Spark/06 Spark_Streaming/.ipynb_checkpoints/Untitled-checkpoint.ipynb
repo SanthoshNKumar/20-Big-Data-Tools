{
 "cells": [
  {
   "cell_type": "code",
   "execution_count": null,
   "metadata": {},
   "outputs": [],
   "source": [
    "#1. Create Spark Session\n",
    "\n",
    "# Testing pyspark Intallation\n",
    "import findspark\n",
    "findspark.init('C:\\Spark')\n",
    "findspark.find()\n",
    "\n",
    "import pyspark\n",
    "from pyspark.sql import SparkSession\n",
    "\n",
    "spark = SparkSession.builder.master(\"local[1]\").appName('SparkByExamples.com').getOrCreate()\n",
    "\n",
    "spark"
   ]
  },
  {
   "cell_type": "code",
   "execution_count": null,
   "metadata": {},
   "outputs": [],
   "source": [
    "#pip install apache_log_parser"
   ]
  },
  {
   "cell_type": "code",
   "execution_count": null,
   "metadata": {},
   "outputs": [],
   "source": [
    "from apache_log_parser import ApacheAccessLog"
   ]
  },
  {
   "cell_type": "code",
   "execution_count": null,
   "metadata": {},
   "outputs": [],
   "source": [
    "myFile = spark.sparkContext.textFile(r\"C:\\Users\\bmi_cims\\Desktop\\Spark\\SparkStream\\python-spark-streaming-master\\python-spark-streaming-master\\2_basics\\logs\\access_log.log\")\n",
    "\n",
    "access_log_dstream = log_data.map(ApacheAccessLog.parse_from_log_line).filter(lambda parsed_line: parsed_line is not None)\n",
    "\n",
    "access_log_dstream.pprint(num = 30)"
   ]
  },
  {
   "cell_type": "code",
   "execution_count": null,
   "metadata": {},
   "outputs": [],
   "source": [
    "tsk = spark.sparkContext.parallelize([(1,\"a\"), (2,\"b\"),(1,\"c\"),(2,\"d\"),(1,\"e\"),(3,\"f\")],3)\n",
    "\n",
    "axstream1 = tsk.reduce(max)\n",
    "print(axstream)\n",
    "\n",
    "axstream2 = tsk.reduce(min)\n",
    "print(axstream2)\n"
   ]
  },
  {
   "cell_type": "code",
   "execution_count": null,
   "metadata": {},
   "outputs": [],
   "source": [
    "wordcounts1 = lines.map(lambda x: x.replace(',',' ').replace('.',' ').replace('-',' ').lower())\n",
    "#wordcounts1top = wordcounts1.transform(lambda rdd: rdd.take(10))\n",
    "wordcounts1.filter(lambda rdd: rdd.take(10)).pprint()\n",
    "#sc.parallelize(range(100), 100).filter(lambda x: x > 90).take(3)\n",
    "#wordcounts1top.pprint()"
   ]
  },
  {
   "cell_type": "code",
   "execution_count": null,
   "metadata": {},
   "outputs": [],
   "source": [
    "wordcounts1.collect()"
   ]
  },
  {
   "cell_type": "code",
   "execution_count": null,
   "metadata": {},
   "outputs": [],
   "source": [
    "wordcounts1.map(lambda x : x).collect()"
   ]
  },
  {
   "cell_type": "code",
   "execution_count": null,
   "metadata": {},
   "outputs": [],
   "source": [
    "spark.sparkContext.parallelize(['Good','Morning','Good','Evening','Good','Day','Happy','Birthday','Happy','New','Year']).take(1)"
   ]
  },
  {
   "cell_type": "code",
   "execution_count": null,
   "metadata": {},
   "outputs": [],
   "source": [
    "w = spark.sparkContext.parallelize(['Good','Morning','Good','Evening','Good','Day','Happy','Birthday','Happy','New','Year'])\n",
    "\n",
    "w.map(lambda x: x).take(3)"
   ]
  },
  {
   "cell_type": "code",
   "execution_count": null,
   "metadata": {},
   "outputs": [],
   "source": []
  },
  {
   "cell_type": "code",
   "execution_count": null,
   "metadata": {},
   "outputs": [],
   "source": []
  }
 ],
 "metadata": {
  "kernelspec": {
   "display_name": "Python 3",
   "language": "python",
   "name": "python3"
  },
  "language_info": {
   "codemirror_mode": {
    "name": "ipython",
    "version": 3
   },
   "file_extension": ".py",
   "mimetype": "text/x-python",
   "name": "python",
   "nbconvert_exporter": "python",
   "pygments_lexer": "ipython3",
   "version": "3.6.8"
  }
 },
 "nbformat": 4,
 "nbformat_minor": 2
}
