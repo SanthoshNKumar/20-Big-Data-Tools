{
 "cells": [
  {
   "cell_type": "code",
   "execution_count": null,
   "metadata": {},
   "outputs": [],
   "source": [
    "'''\n",
    "We need to set a few configurations and parameters, to run a Spark application on the local/cluster.\n",
    "this is where SparkConf is used. Basically,  to run a Spark application, it offers configurations.\n",
    "\n",
    "- SparkConf() we will create a SparkConf object first. So, that will load the values from spark"
   ]
  },
  {
   "cell_type": "code",
   "execution_count": null,
   "metadata": {},
   "outputs": [],
   "source": [
    "#Sample Code\n",
    "\n",
    "from pyspark import SparkConf,SparkContext\n",
    "\n",
    "conf = SparkConf().setAppName(\"Spark Demo\").setMaster(\"local\")\n",
    "\n",
    "sc = SparkContext(conf=conf)"
   ]
  },
  {
   "cell_type": "code",
   "execution_count": null,
   "metadata": {},
   "outputs": [],
   "source": [
    "'''\n",
    "Attributes of PySpark SparkConf\n",
    "\n",
    "    set(key, value) : It helps to set a configuration property.\n",
    "    \n",
    "    setMaster(value) : n order to set the master URL\n",
    "    \n",
    "    setAppName(value) : We use it to set an application name.\n",
    "    \n",
    "    get(key, defaultValue=None) : It helps to get a configuration value of a key.\n",
    "    \n",
    "    setSparkHome(value) : "
   ]
  },
  {
   "cell_type": "code",
   "execution_count": null,
   "metadata": {},
   "outputs": [],
   "source": [
    "'''\n",
    "'SetMaster' options configuration \n",
    "\n",
    "    1. local Machine\n",
    "        - SparkConf.setAppName(“Spark Demo”).setMaster(“local”)\n",
    "\n",
    "    2. yarn Client\n",
    "        - SparkConf.setAppName(“Spark Demo”).setMaster(“yarn-client”)\n",
    "\n",
    "    3. mesos \n",
    "        - SparkConf.setAppName(“Spark Demo”).setMaster(“mesos master URL”)\n",
    "\n",
    "    4. spark URL\n",
    "        - SparkConf.setAppName(“Spark Demo”).setMaster(“spark master URL”)"
   ]
  }
 ],
 "metadata": {
  "kernelspec": {
   "display_name": "Python 3",
   "language": "python",
   "name": "python3"
  },
  "language_info": {
   "codemirror_mode": {
    "name": "ipython",
    "version": 3
   },
   "file_extension": ".py",
   "mimetype": "text/x-python",
   "name": "python",
   "nbconvert_exporter": "python",
   "pygments_lexer": "ipython3",
   "version": "3.6.8"
  }
 },
 "nbformat": 4,
 "nbformat_minor": 2
}
