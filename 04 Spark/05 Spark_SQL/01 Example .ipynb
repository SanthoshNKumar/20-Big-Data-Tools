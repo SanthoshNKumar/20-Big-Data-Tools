{
 "cells": [
  {
   "cell_type": "code",
   "execution_count": null,
   "id": "ba3a51bf-f1fa-49e3-8cd7-1cbce9475c98",
   "metadata": {},
   "outputs": [],
   "source": [
    "# Import SparkSession\n",
    "from pyspark.sql import SparkSession\n",
    "\n",
    "# Create SparkSession \n",
    "spark = SparkSession.builder \\\n",
    "      .master('spark://10.0.0.4:7077') \\\n",
    "      .appName('spark-basic') \\\n",
    "      .getOrCreate() "
   ]
  },
  {
   "cell_type": "code",
   "execution_count": 6,
   "id": "8135e944-0ed9-4c0c-af7e-6f56cb0738f0",
   "metadata": {},
   "outputs": [],
   "source": [
    "# Read CSV file into table\n",
    "spark.read.option(\"header\",True).csv(\"zipcode.csv\").createOrReplaceTempView(\"Zipcodes\")"
   ]
  },
  {
   "cell_type": "markdown",
   "id": "70968def-1a5c-4400-ac44-f1127f9f3a7b",
   "metadata": {},
   "source": [
    "## Select Columns"
   ]
  },
  {
   "cell_type": "code",
   "execution_count": 7,
   "id": "369560b6-b48d-4edb-99d4-d1a44e9e1de5",
   "metadata": {},
   "outputs": [
    {
     "name": "stdout",
     "output_type": "stream",
     "text": [
      "+-------+-------------------+-------+-----+\n",
      "|country|               city|zipcode|state|\n",
      "+-------+-------------------+-------+-----+\n",
      "|     US|        PARC PARQUE|    704|   PR|\n",
      "|     US|PASEO COSTA DEL SUR|    704|   PR|\n",
      "|     US|       BDA SAN LUIS|    709|   PR|\n",
      "|     US|               HOLT|  32564|   FL|\n",
      "|     US|          HOMOSASSA|  34487|   FL|\n",
      "+-------+-------------------+-------+-----+\n",
      "only showing top 5 rows\n",
      "\n"
     ]
    }
   ],
   "source": [
    "spark.sql(\"SELECT country, city, zipcode, state FROM ZIPCODES\").show(5)"
   ]
  },
  {
   "cell_type": "code",
   "execution_count": 18,
   "id": "e1bc7655-5cf1-4798-a87e-2f3c48ac4fd7",
   "metadata": {},
   "outputs": [
    {
     "name": "stdout",
     "output_type": "stream",
     "text": [
      "+-------+-------------------+-------+-----+\n",
      "|country|city               |zipcode|state|\n",
      "+-------+-------------------+-------+-----+\n",
      "|US     |PARC PARQUE        |704    |PR   |\n",
      "|US     |PASEO COSTA DEL SUR|704    |PR   |\n",
      "|US     |BDA SAN LUIS       |709    |PR   |\n",
      "|US     |HOLT               |32564  |FL   |\n",
      "|US     |HOMOSASSA          |34487  |FL   |\n",
      "|US     |CINGULAR WIRELESS  |76166  |TX   |\n",
      "|US     |FORT WORTH         |76177  |TX   |\n",
      "|US     |FT WORTH           |76177  |TX   |\n",
      "|US     |SPRUCE PINE        |35585  |AL   |\n",
      "|US     |ASH HILL           |27007  |NC   |\n",
      "|US     |URB EUGENE RICE    |704    |PR   |\n",
      "|US     |MESA               |85209  |AZ   |\n",
      "|US     |MESA               |85210  |AZ   |\n",
      "|US     |HILLIARD           |32046  |FL   |\n",
      "|US     |HOLDER             |34445  |FL   |\n",
      "|US     |SECT LANAUSSE      |704    |PR   |\n",
      "|US     |SPRING GARDEN      |36275  |AL   |\n",
      "|US     |SPRINGVILLE        |35146  |AL   |\n",
      "|US     |ASHEBORO           |27203  |NC   |\n",
      "|US     |ASHEBORO           |27204  |NC   |\n",
      "+-------+-------------------+-------+-----+\n",
      "\n"
     ]
    }
   ],
   "source": [
    "spark.sql(\"SELECT country, city, zipcode, state FROM ZIPCODES\").show(truncate=False)"
   ]
  },
  {
   "cell_type": "markdown",
   "id": "c43d5730-24d4-4aae-a93d-78265fb3e963",
   "metadata": {},
   "source": [
    "## Select Columns based on WHERE condition"
   ]
  },
  {
   "cell_type": "code",
   "execution_count": 16,
   "id": "0fa39e57-7de9-4c28-a2e0-023202488b43",
   "metadata": {},
   "outputs": [
    {
     "name": "stdout",
     "output_type": "stream",
     "text": [
      "+-------+----+-------+-----+\n",
      "|country|city|zipcode|state|\n",
      "+-------+----+-------+-----+\n",
      "|     US|MESA|  85209|   AZ|\n",
      "|     US|MESA|  85210|   AZ|\n",
      "+-------+----+-------+-----+\n",
      "\n"
     ]
    }
   ],
   "source": [
    "spark.sql(\"SELECT  country, city, zipcode, state FROM ZIPCODES WHERE state = 'AZ'\").show(5)"
   ]
  },
  {
   "cell_type": "code",
   "execution_count": 17,
   "id": "eedde817-b4d4-4c1e-ad3f-a11d9b9f5f19",
   "metadata": {},
   "outputs": [
    {
     "data": {
      "text/plain": [
       "[Row(country='US', city='MESA', zipcode='85209', state='AZ'),\n",
       " Row(country='US', city='MESA', zipcode='85210', state='AZ')]"
      ]
     },
     "execution_count": 17,
     "metadata": {},
     "output_type": "execute_result"
    }
   ],
   "source": [
    "df2 = spark.sql(\"SELECT  country, city, zipcode, state FROM ZIPCODES WHERE state = 'AZ'\")\n",
    "df2.collect()"
   ]
  },
  {
   "cell_type": "markdown",
   "id": "2f0898b5-1e85-4f08-87e9-b46c11790be7",
   "metadata": {},
   "source": [
    "## Select Columns based on WHERE in condition"
   ]
  },
  {
   "cell_type": "code",
   "execution_count": 13,
   "id": "3e39002a-cebb-4338-b84e-3a7b428fcad4",
   "metadata": {},
   "outputs": [
    {
     "name": "stdout",
     "output_type": "stream",
     "text": [
      "+-------+-------------------+-------+-----+\n",
      "|country|               city|zipcode|state|\n",
      "+-------+-------------------+-------+-----+\n",
      "|     US|               MESA|  85209|   AZ|\n",
      "|     US|               MESA|  85210|   AZ|\n",
      "|     US|               HOLT|  32564|   FL|\n",
      "|     US|             HOLDER|  34445|   FL|\n",
      "|     US|          HOMOSASSA|  34487|   FL|\n",
      "|     US|           HILLIARD|  32046|   FL|\n",
      "|     US|        PARC PARQUE|    704|   PR|\n",
      "|     US|PASEO COSTA DEL SUR|    704|   PR|\n",
      "|     US|       BDA SAN LUIS|    709|   PR|\n",
      "|     US|    URB EUGENE RICE|    704|   PR|\n",
      "+-------+-------------------+-------+-----+\n",
      "only showing top 10 rows\n",
      "\n"
     ]
    }
   ],
   "source": [
    "spark.sql(\"SELECT  country, city, zipcode, state FROM ZIPCODES WHERE state in ('PR','AZ','FL') order by state \").show(10)"
   ]
  },
  {
   "cell_type": "markdown",
   "id": "17baff13-dcf4-4ce7-8087-c9c26d4d379f",
   "metadata": {},
   "source": [
    "## Aggregated data for grouped "
   ]
  },
  {
   "cell_type": "code",
   "execution_count": 15,
   "id": "201dab67-0461-41af-ba2d-cd3d0eac513f",
   "metadata": {},
   "outputs": [
    {
     "name": "stdout",
     "output_type": "stream",
     "text": [
      "+-----+-----+\n",
      "|state|count|\n",
      "+-----+-----+\n",
      "|   AZ|    2|\n",
      "|   NC|    3|\n",
      "|   AL|    3|\n",
      "|   TX|    3|\n",
      "|   FL|    4|\n",
      "|   PR|    5|\n",
      "+-----+-----+\n",
      "\n"
     ]
    }
   ],
   "source": [
    "spark.sql(\"SELECT state, count(*) as count FROM ZIPCODES GROUP BY state\").show()"
   ]
  },
  {
   "cell_type": "code",
   "execution_count": 4,
   "id": "7691610a-5a5b-4fe1-a672-14b8b6b0d1e8",
   "metadata": {},
   "outputs": [
    {
     "name": "stdout",
     "output_type": "stream",
     "text": [
      "root\n",
      " |-- Name: string (nullable = true)\n",
      " |--  SName: string (nullable = true)\n",
      " |-- TName: string (nullable = true)\n",
      " |-- DOB: string (nullable = true)\n",
      " |-- Gender: string (nullable = true)\n",
      " |-- Sal: string (nullable = true)\n",
      "\n",
      "+-------+------+--------+----------+------+----+\n",
      "|   Name| SName|   TName|       DOB|Gender| Sal|\n",
      "+-------+------+--------+----------+------+----+\n",
      "|  James|  null|   Smith|1991-04-01|     M|3000|\n",
      "|Michael|  Rose|    null|2000-05-19|     M|4000|\n",
      "| Robert|  null|Williams|1978-09-05|     M|4000|\n",
      "|  Maria|  Anne|   Jones|1967-12-01|     F|4000|\n",
      "|    Jen|  Mary|   Brown|1980-02-17|     F|  -1|\n",
      "+-------+------+--------+----------+------+----+\n",
      "\n"
     ]
    }
   ],
   "source": [
    "df = spark.read.option(\"header\",True).csv(\"123.csv\")\n",
    "\n",
    "df.printSchema()\n",
    "df.show()"
   ]
  },
  {
   "cell_type": "code",
   "execution_count": null,
   "id": "566fe3de-7291-4379-bfeb-c100c88e515e",
   "metadata": {},
   "outputs": [],
   "source": []
  }
 ],
 "metadata": {
  "kernelspec": {
   "display_name": "Python 3 (ipykernel)",
   "language": "python",
   "name": "python3"
  },
  "language_info": {
   "codemirror_mode": {
    "name": "ipython",
    "version": 3
   },
   "file_extension": ".py",
   "mimetype": "text/x-python",
   "name": "python",
   "nbconvert_exporter": "python",
   "pygments_lexer": "ipython3",
   "version": "3.11.4"
  },
  "varInspector": {
   "cols": {
    "lenName": 16,
    "lenType": 16,
    "lenVar": 40
   },
   "kernels_config": {
    "python": {
     "delete_cmd_postfix": "",
     "delete_cmd_prefix": "del ",
     "library": "var_list.py",
     "varRefreshCmd": "print(var_dic_list())"
    },
    "r": {
     "delete_cmd_postfix": ") ",
     "delete_cmd_prefix": "rm(",
     "library": "var_list.r",
     "varRefreshCmd": "cat(var_dic_list()) "
    }
   },
   "types_to_exclude": [
    "module",
    "function",
    "builtin_function_or_method",
    "instance",
    "_Feature"
   ],
   "window_display": false
  }
 },
 "nbformat": 4,
 "nbformat_minor": 5
}
