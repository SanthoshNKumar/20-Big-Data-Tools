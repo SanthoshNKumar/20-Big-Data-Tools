{
 "cells": [
  {
   "cell_type": "code",
   "execution_count": null,
   "metadata": {},
   "outputs": [],
   "source": [
    "#Show all entries in title column\n",
    "dataframe.select(\"author\").show(10)\n",
    "\n",
    "#Show all entries in title, author, rank, price columns\n",
    "dataframe.select(\"author\", \"title\", \"rank\", \"price\").show(10)\n",
    "\n",
    "# Show title and assign 0 or 1 depending on title\n",
    "dataframe.select(\"title\",when(dataframe.title != 'ODD HOURS', 1).otherwise(0)).show(10)\n",
    "\n",
    "# Show rows with specified authors if in the given options\n",
    "dataframe [dataframe.author.isin(\"John Sandford\", \"Emily Giffin\")].show(5)\n",
    "\n",
    "# Show author and title is TRUE if title has \" THE \" word in titles\n",
    "dataframe.select(\"author\", \"title\",\n",
    "dataframe.title.like(\"% THE %\")).show(15)\n",
    "\n",
    "dataframe.select(\"author\", \"title\", dataframe.title.startswith(\"THE\")).show(5)\n",
    "dataframe.select(\"author\", \"title\", dataframe.title.endswith(\"NT\")).show(5)\n",
    "\n",
    "\n",
    "dataframe.select(dataframe.author.substr(1, 3).alias(\"title\")).show(5)\n",
    "dataframe.select(dataframe.author.substr(3, 6).alias(\"title\")).show(5)\n",
    "dataframe.select(dataframe.author.substr(1, 6).alias(\"title\")).show(5)\n",
    "\n",
    "# adding Column\n",
    "\n",
    "# Lit() is required while we are creating columns with exact values.\n",
    "dataframe = dataframe.withColumn('new_column', \n",
    "F.lit('This is a new column'))\n",
    "display(dataframe)\n",
    "\n",
    "\n",
    "# Update column\n",
    "\n",
    "# Update column 'amazon_product_url' with 'URL'\n",
    "dataframe = dataframe.withColumnRenamed('amazon_product_url', 'URL')\n",
    "dataframe.show(5)\n",
    "\n",
    "\n",
    "# Removing column\n",
    "\n",
    "dataframe_remove = dataframe.drop(\"publisher\", \"published_date\").show(5)\n",
    "dataframe_remove2 = dataframe \\ .drop(dataframe.publisher).drop(dataframe.published_date).show(5)\n",
    "\n",
    "# Inspect Data\n",
    "\n",
    "# Returns dataframe column names and data types\n",
    "dataframe.dtypes\n",
    "# Displays the content of dataframe\n",
    "dataframe.show()\n",
    "# Return first n rows\n",
    "dataframe.head()\n",
    "# Returns first row\n",
    "dataframe.first()\n",
    "# Return first n rows\n",
    "dataframe.take(5)\n",
    "# Computes summary statistics\n",
    "dataframe.describe().show()\n",
    "# Returns columns of dataframe\n",
    "dataframe.columns\n",
    "# Counts the number of rows in dataframe\n",
    "dataframe.count()\n",
    "# Counts the number of distinct rows in dataframe\n",
    "dataframe.distinct().count()\n",
    "# Prints plans including physical and logical\n",
    "dataframe.explain(4)"
   ]
  },
  {
   "cell_type": "code",
   "execution_count": null,
   "metadata": {},
   "outputs": [],
   "source": [
    "# Filtering entries of title\n",
    "# Only keeps records having value 'THE HOST'\n",
    "dataframe.filter(dataframe[\"title\"] == 'THE HOST').show(5)\n",
    "\n"
   ]
  },
  {
   "cell_type": "code",
   "execution_count": null,
   "metadata": {},
   "outputs": [],
   "source": [
    "Missing & Replacing Values\n",
    "\n",
    "# Replacing null values\n",
    "dataframe.na.fill()\n",
    "dataFrame.fillna()\n",
    "dataFrameNaFunctions.fill()\n",
    "# Returning new dataframe restricting rows with null valuesdataframe.na.drop()\n",
    "dataFrame.dropna()\n",
    "dataFrameNaFunctions.drop()\n",
    "# Return new dataframe replacing one value with another\n",
    "dataframe.na.replace(5, 15)\n",
    "dataFrame.replace()\n",
    "dataFrameNaFunctions.replace()"
   ]
  },
  {
   "cell_type": "code",
   "execution_count": null,
   "metadata": {},
   "outputs": [],
   "source": [
    "# Repartitioning\n",
    "# Dataframe with 10 partitions\n",
    "dataframe.repartition(10).rdd.getNumPartitions()\n",
    "# Dataframe with 1 partition\n",
    "dataframe.coalesce(1).rdd.getNumPartitions()"
   ]
  },
  {
   "cell_type": "code",
   "execution_count": null,
   "metadata": {},
   "outputs": [],
   "source": [
    "# Running SQL Queries Programmatically\n",
    "\n",
    "# Registering a table\n",
    "dataframe.registerTempTable(\"df\")\n",
    "sc.sql(\"select * from df\").show(3)\n",
    "sc.sql(\"select \\               \n",
    "CASE WHEN description LIKE '%love%' THEN 'Love_Theme' WHEN description LIKE '%hate%' THEN 'Hate_Theme'\\\n",
    "WHEN description LIKE '%happy%' THEN 'Happiness_Theme'\\\n",
    "WHEN description LIKE '%anger%' THEN 'Anger_Theme' \\\n",
    "WHEN description LIKE '%horror%' THEN 'Horror_Theme' \\               \n",
    "WHEN description LIKE '%death%' THEN 'Criminal_Theme' \\               \n",
    "WHEN description LIKE '%detective%' THEN 'Mystery_Theme' \\              \n",
    "ELSE 'Other_Themes' \\               \n",
    "END Themes \\       \n",
    "from df\").groupBy('Themes').count().show()"
   ]
  },
  {
   "cell_type": "code",
   "execution_count": null,
   "metadata": {},
   "outputs": [],
   "source": [
    "# Converting dataframe into an RDD\n",
    "rdd_convert = dataframe.rdd\n",
    "# Converting dataframe into a RDD of string dataframe.toJSON().first()\n",
    "# Obtaining contents of df as Pandas \n",
    "dataFramedataframe.toPandas()"
   ]
  }
 ],
 "metadata": {
  "kernelspec": {
   "display_name": "Python 3",
   "language": "python",
   "name": "python3"
  },
  "language_info": {
   "codemirror_mode": {
    "name": "ipython",
    "version": 3
   },
   "file_extension": ".py",
   "mimetype": "text/x-python",
   "name": "python",
   "nbconvert_exporter": "python",
   "pygments_lexer": "ipython3",
   "version": "3.6.8"
  }
 },
 "nbformat": 4,
 "nbformat_minor": 2
}
