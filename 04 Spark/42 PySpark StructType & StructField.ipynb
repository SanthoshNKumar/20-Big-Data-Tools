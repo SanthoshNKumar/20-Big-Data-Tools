{
 "cells": [
  {
   "cell_type": "code",
   "execution_count": null,
   "metadata": {},
   "outputs": [],
   "source": [
    "'''\n",
    "    - PySpark StructType & StructField classes are used to programmatically specify the schema to the DataFrame and creating \n",
    "      complex columns like nested struct, array and map columns.\n",
    "    - StructType is a collection of StructField’s that defines column name, column data type\n",
    "    \n"
   ]
  },
  {
   "cell_type": "code",
   "execution_count": null,
   "metadata": {},
   "outputs": [],
   "source": [
    "'''\n",
    "# 1. StructType – Defines the structure of the Dataframe\n",
    "\n",
    "    - PySpark provides from pyspark.sql.types import StructType class to define the structure of the DataFrame.\n",
    "    - printSchema() method on the DataFrame shows StructType columns as “struct”.  "
   ]
  },
  {
   "cell_type": "code",
   "execution_count": null,
   "metadata": {},
   "outputs": [],
   "source": [
    "'''\n",
    "# 2.StructField – Defines the metadata of the DataFrame column\n",
    "\n",
    "    - PySpark provides pyspark.sql.types import StructField class to define the columns which includes column name(String), \n",
    "      column type (DataType), nullable column (Boolean) and metadata (MetaData)"
   ]
  },
  {
   "cell_type": "code",
   "execution_count": null,
   "metadata": {},
   "outputs": [],
   "source": [
    "# 3. Using PySpark StructType & StructField with DataFrame\n",
    "\n",
    "import pyspark\n",
    "from pyspark.sql import SparkSession\n",
    "from pyspark.sql.types import StructType,StructField, StringType, IntegerType\n",
    "\n",
    "spark = SparkSession.builder.master(\"local[1]\").appName('SparkByExamples.com').getOrCreate()\n",
    "\n",
    "data = [(\"James\",\"\",\"Smith\",\"36636\",\"M\",3000),(\"Michael\",\"Rose\",\"\",\"40288\",\"M\",4000),\n",
    "        (\"Robert\",\"\",\"Williams\",\"42114\",\"M\",4000),(\"Maria\",\"Anne\",\"Jones\",\"39192\",\"F\",4000),\n",
    "        (\"Jen\",\"Mary\",\"Brown\",\"\",\"F\",-1)\n",
    "       ]\n",
    "\n",
    "schema = StructType([StructField(\"firstname\",StringType(),True),StructField(\"middlename\",StringType(),True),\n",
    "                     StructField(\"lastname\",StringType(),True),StructField(\"id\", StringType(), True),\n",
    "                     StructField(\"gender\", StringType(), True),StructField(\"salary\", IntegerType(), True)])\n",
    " \n",
    "df = spark.createDataFrame(data=data,schema=schema)\n",
    "df.printSchema()\n",
    "df.show(truncate=False)"
   ]
  },
  {
   "cell_type": "code",
   "execution_count": null,
   "metadata": {},
   "outputs": [],
   "source": [
    "# 4. Defining Nested StructType object struct\n",
    "\n",
    "structureData = [((\"James\",\"\",\"Smith\"),\"36636\",\"M\",3100),((\"Michael\",\"Rose\",\"\"),\"40288\",\"M\",4300),\n",
    "                 ((\"Robert\",\"\",\"Williams\"),\"42114\",\"M\",1400),((\"Maria\",\"Anne\",\"Jones\"),\"39192\",\"F\",5500),\n",
    "                 ((\"Jen\",\"Mary\",\"Brown\"),\"\",\"F\",-1)\n",
    "                ]\n",
    "\n",
    "structureSchema = StructType([\n",
    "        StructField('name', StructType([\n",
    "             StructField('firstname', StringType(), True),\n",
    "             StructField('middlename', StringType(), True),\n",
    "             StructField('lastname', StringType(), True)\n",
    "             ])),\n",
    "         StructField('id', StringType(), True),\n",
    "         StructField('gender', StringType(), True),\n",
    "         StructField('salary', IntegerType(), True)\n",
    "         ])\n",
    "\n",
    "df2 = spark.createDataFrame(data=structureData,schema=structureSchema)\n",
    "df2.printSchema()\n",
    "df2.show(truncate=False)"
   ]
  },
  {
   "cell_type": "code",
   "execution_count": null,
   "metadata": {},
   "outputs": [],
   "source": [
    "# 5. Adding & Changing struct of the DataFrame\n",
    "\n",
    "from pyspark.sql.functions import col,struct,when\n",
    "\n",
    "updatedDF = df2.withColumn(\"OtherInfo\",struct(col(\"id\").alias(\"identifier\"),col(\"gender\").alias(\"gender\"),\n",
    "                                              col(\"salary\").alias(\"salary\"),\n",
    "                                              when(col(\"salary\").cast(IntegerType()) < 2000,\"Low\")\n",
    "                                              .when(col(\"salary\").cast(IntegerType()) < 4000,\"Medium\")\n",
    "                                              .otherwise(\"High\").alias(\"Salary_Grade\")\n",
    "                                             )).drop(\"id\",\"gender\",\"salary\")\n",
    "\n",
    "updatedDF.printSchema()\n",
    "updatedDF.show(truncate=False)"
   ]
  },
  {
   "cell_type": "code",
   "execution_count": null,
   "metadata": {},
   "outputs": [],
   "source": [
    "# 6. Using SQL ArrayType and MapType\n",
    "\n",
    "arrayStructureSchema = StructType([\n",
    "    StructField('name', StructType([\n",
    "       StructField('firstname', StringType(), True),\n",
    "       StructField('middlename', StringType(), True),\n",
    "       StructField('lastname', StringType(), True)\n",
    "       ])),\n",
    "       StructField('hobbies', ArrayType(StringType()), True),\n",
    "       StructField('properties', MapType(StringType(),StringType()), True)\n",
    "    ])"
   ]
  },
  {
   "cell_type": "code",
   "execution_count": null,
   "metadata": {},
   "outputs": [],
   "source": [
    "# 7. Creating StructType object struct from JSON file\n",
    "\n",
    "print(df2.schema.json())\n",
    "\n",
    "\n",
    "import json\n",
    "\n",
    "schemaFromJson = StructType.fromJson(json.loads(schema.json))\n",
    "\n",
    "df3 = spark.createDataFrame(spark.sparkContext.parallelize(structureData),schemaFromJson)\n",
    "\n",
    "df3.printSchema()"
   ]
  },
  {
   "cell_type": "code",
   "execution_count": null,
   "metadata": {},
   "outputs": [],
   "source": [
    "# 8. Creating StructType object struct from DDL String\n"
   ]
  },
  {
   "cell_type": "code",
   "execution_count": null,
   "metadata": {},
   "outputs": [],
   "source": [
    "# 9. Checking if a Column Exists in a DataFrame\n",
    "\n",
    "print(df.schema.fieldNames.contains(\"firstname\"))\n",
    "print(df.schema.contains(StructField(\"firstname\",StringType,true)))"
   ]
  },
  {
   "cell_type": "code",
   "execution_count": null,
   "metadata": {},
   "outputs": [],
   "source": [
    "# 10. Complete Example of PySpark StructType & StructField\n",
    "\n",
    "import pyspark\n",
    "from pyspark.sql import SparkSession\n",
    "from pyspark.sql.types import StructType,StructField, StringType, IntegerType,ArrayType,MapType\n",
    "from pyspark.sql.functions import col,struct,when\n",
    "\n",
    "spark = SparkSession.builder.master(\"local[1]\").appName('SparkByExamples.com').getOrCreate()\n",
    "\n",
    "data = [(\"James\",\"\",\"Smith\",\"36636\",\"M\",3000),(\"Michael\",\"Rose\",\"\",\"40288\",\"M\",4000),\n",
    "        (\"Robert\",\"\",\"Williams\",\"42114\",\"M\",4000),(\"Maria\",\"Anne\",\"Jones\",\"39192\",\"F\",4000),\n",
    "        (\"Jen\",\"Mary\",\"Brown\",\"\",\"F\",-1)\n",
    "       ]\n",
    "\n",
    "schema = StructType([ \n",
    "                    StructField(\"firstname\",StringType(),True), \n",
    "                    StructField(\"middlename\",StringType(),True), \n",
    "                    StructField(\"lastname\",StringType(),True), \n",
    "                    StructField(\"id\", StringType(), True), \n",
    "                    StructField(\"gender\", StringType(), True), \n",
    "                    StructField(\"salary\", IntegerType(), True) \n",
    "                    ])\n",
    " \n",
    "df = spark.createDataFrame(data=data,schema=schema)\n",
    "df.printSchema()\n",
    "df.show(truncate=False)\n",
    "\n",
    "structureData = [\n",
    "    ((\"James\",\"\",\"Smith\"),\"36636\",\"M\",3100),\n",
    "    ((\"Michael\",\"Rose\",\"\"),\"40288\",\"M\",4300),\n",
    "    ((\"Robert\",\"\",\"Williams\"),\"42114\",\"M\",1400),\n",
    "    ((\"Maria\",\"Anne\",\"Jones\"),\"39192\",\"F\",5500),\n",
    "    ((\"Jen\",\"Mary\",\"Brown\"),\"\",\"F\",-1)\n",
    "  ]\n",
    "structureSchema = StructType([\n",
    "        StructField('name', StructType([\n",
    "             StructField('firstname', StringType(), True),\n",
    "             StructField('middlename', StringType(), True),\n",
    "             StructField('lastname', StringType(), True)\n",
    "             ])),\n",
    "         StructField('id', StringType(), True),\n",
    "         StructField('gender', StringType(), True),\n",
    "         StructField('salary', IntegerType(), True)\n",
    "         ])\n",
    "\n",
    "df2 = spark.createDataFrame(data=structureData,schema=structureSchema)\n",
    "df2.printSchema()\n",
    "df2.show(truncate=False)\n",
    "\n",
    "\n",
    "updatedDF = df2.withColumn(\"OtherInfo\", \n",
    "    struct(col(\"id\").alias(\"identifier\"),\n",
    "    col(\"gender\").alias(\"gender\"),\n",
    "    col(\"salary\").alias(\"salary\"),\n",
    "    when(col(\"salary\").cast(IntegerType()) < 2000,\"Low\")\n",
    "      .when(col(\"salary\").cast(IntegerType()) < 4000,\"Medium\")\n",
    "      .otherwise(\"High\").alias(\"Salary_Grade\")\n",
    "  )).drop(\"id\",\"gender\",\"salary\")\n",
    "\n",
    "updatedDF.printSchema()\n",
    "updatedDF.show(truncate=False)\n",
    "\n",
    "\n",
    "\"\"\" Array & Map\"\"\"\n",
    "\n",
    "\n",
    "arrayStructureSchema = StructType([\n",
    "    StructField('name', StructType([\n",
    "       StructField('firstname', StringType(), True),\n",
    "       StructField('middlename', StringType(), True),\n",
    "       StructField('lastname', StringType(), True)\n",
    "       ])),\n",
    "       StructField('hobbies', ArrayType(StringType()), True),\n",
    "       StructField('properties', MapType(StringType(),StringType()), True)\n",
    "    ])"
   ]
  },
  {
   "cell_type": "code",
   "execution_count": null,
   "metadata": {},
   "outputs": [],
   "source": []
  }
 ],
 "metadata": {
  "kernelspec": {
   "display_name": "Python 3",
   "language": "python",
   "name": "python3"
  },
  "language_info": {
   "codemirror_mode": {
    "name": "ipython",
    "version": 3
   },
   "file_extension": ".py",
   "mimetype": "text/x-python",
   "name": "python",
   "nbconvert_exporter": "python",
   "pygments_lexer": "ipython3",
   "version": "3.6.8"
  }
 },
 "nbformat": 4,
 "nbformat_minor": 2
}
