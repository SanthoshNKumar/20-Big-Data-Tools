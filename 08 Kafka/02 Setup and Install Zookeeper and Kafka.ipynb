{
 "cells": [
  {
   "cell_type": "code",
   "execution_count": null,
   "metadata": {},
   "outputs": [],
   "source": [
    "# Prerequisites :\n",
    "    - JAVA Installed\n",
    "    - Haddop Configured\n",
    "    - Spark Configured\n",
    "    \n",
    "Note : Zookeeper is embedded with Kafka dowloaded file, we dont need to download any specific zookeeper."
   ]
  },
  {
   "cell_type": "code",
   "execution_count": null,
   "metadata": {},
   "outputs": [],
   "source": [
    "# Download Kafka from below the link\n",
    "bmi_cims@Ubuntu:~ wget https://dlcdn.apache.org/kafka/3.0.0/kafka_2.12-3.0.0.tgz\n",
    "\n",
    "# Extract and place the files on C drive as a kafka\n",
    "C:\\kafka\n",
    "\n",
    "# Here two chnages are required \n",
    "1. C:\\kafka\\config\\server.properties\n",
    "\n",
    "# A comma separated list of directories under which to store log files\n",
    "log.dirs=C:/kafka/kafka-logs\n",
    "\n",
    "2. C:\\kafka\\config\\zookeeper.properties\n",
    "\n",
    "# the directory where the snapshot is stored.\n",
    "dataDir=C:/kafka/zookeeper-data\n",
    "\n",
    "# Run the Zookeeper server\n",
    "\n",
    "# Windows\n",
    "C:\\kafka>.\\bin\\windows\\zookeeper-server-start.bat .\\config\\zookeeper.properties\n",
    "\n",
    "# Ubuntu\n",
    "bmi_cims@Ubuntu:~/kafka/bin$ ./zookeeper-server-start.sh /home/bmi_cims/kafka/config/zookeeper.properties\n",
    "\n",
    "# Start the Kafka server\n",
    "# Windows\n",
    "C:\\kafka>.\\bin\\windows\\kafka-server-start.bat .\\config\\server.properties\n",
    "\n",
    "# Ubuntu\n",
    "bmi_cims@Ubuntu:~/kafka/bin$ ./kafka-server-start.sh /home/bmi_cims/kafka/config/server.properties\n"
   ]
  }
 ],
 "metadata": {
  "kernelspec": {
   "display_name": "Python 3",
   "language": "python",
   "name": "python3"
  },
  "language_info": {
   "codemirror_mode": {
    "name": "ipython",
    "version": 3
   },
   "file_extension": ".py",
   "mimetype": "text/x-python",
   "name": "python",
   "nbconvert_exporter": "python",
   "pygments_lexer": "ipython3",
   "version": "3.7.4"
  }
 },
 "nbformat": 4,
 "nbformat_minor": 2
}
